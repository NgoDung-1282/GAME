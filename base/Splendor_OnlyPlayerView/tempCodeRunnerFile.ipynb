rint('card_id_in_level', id_card_in_level, lv1)
                        print('id',card_id)
                        ra